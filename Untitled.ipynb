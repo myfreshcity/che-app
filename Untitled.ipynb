{
 "cells": [
  {
   "cell_type": "code",
   "execution_count": 1,
   "metadata": {},
   "outputs": [],
   "source": [
    "import os, sys\n",
    "import os,http\n",
    "from flask import Flask, render_template, abort, url_for, session\n",
    "from flask_sqlalchemy import SQLAlchemy\n",
    "from flask_script import Manager, Shell\n",
    "from webapp.app import app,db\n",
    "from webapp.models import *\n",
    "\n",
    "\n",
    "app.log_format = '%(asctime)s %(funcName)s [%(levelname)s] %(message)s'\n",
    "app.debug = True\n",
    "\n",
    "ctx = app.app_context()\n",
    "ctx.push()"
   ]
  },
  {
   "cell_type": "code",
   "execution_count": 8,
   "metadata": {},
   "outputs": [
    {
     "name": "stdout",
     "output_type": "stream",
     "text": [
      "2018-06-07 17:16:18,742 INFO sqlalchemy.engine.base.Engine SELECT cars.id AS cars_id, cars.brand_id AS cars_brand_id, cars.cat_id AS cars_cat_id, cars.full_name AS cars_full_name, cars.guid_price AS cars_guid_price, cars.price AS cars_price, cars.deposit AS cars_deposit, cars.location AS cars_location, cars.is_show AS cars_is_show, cars.remark AS cars_remark, car_categorys.id AS car_categorys_id, car_categorys.brand_id AS car_categorys_brand_id, car_categorys.full_name AS car_categorys_full_name, car_categorys.img_url AS car_categorys_img_url, car_brands.id AS car_brands_id, car_brands.initial AS car_brands_initial, car_brands.full_name AS car_brands_full_name, car_brands.img_address AS car_brands_img_address \n",
      "FROM cars, car_categorys, car_brands \n",
      "WHERE car_brands.id = cars.brand_id AND car_categorys.id = cars.cat_id AND cars.is_show = %(is_show_1)s\n",
      "2018-06-07 17:16:18,744 INFO sqlalchemy.engine.base.Engine {'is_show_1': 1}\n"
     ]
    },
    {
     "data": {
      "text/plain": [
       "{'status': 200,\n",
       " 'message': '',\n",
       " 'aside': [{'title': 'ARCFOX',\n",
       "   'list': [{'id': 4522,\n",
       "     'full_name': 'LITE',\n",
       "     'img_url': 'cxLogo\\\\4522.jpg',\n",
       "     'cars': '[{\"brand\": null, \"brand_id\": 272, \"cat\": null, \"cat_id\": 4522, \"deposit\": 0, \"full_name\": \"LITE 2017\\\\u6b3e \\\\u539f\\\\u529b\\\\u7248\", \"guid_price\": \"15.28\\\\u4e07\", \"id\": 31800, \"img_url\": \"cxLogo\\\\\\\\4522.jpg\", \"is_show\": true, \"location\": null, \"price\": \"0\", \"query\": null, \"query_class\": null, \"remark\": null, \"to_json\": null}, null, null, null, null]'}]},\n",
       "  {'title': '奔驰',\n",
       "   'list': [{'id': 588,\n",
       "     'full_name': '奔驰C级',\n",
       "     'img_url': 'cxLogo\\\\588.jpg',\n",
       "     'cars': '[{\"brand\": null, \"brand_id\": 36, \"cat\": null, \"cat_id\": 588, \"deposit\": 0, \"full_name\": \"\\\\u5954\\\\u9a70C\\\\u7ea7 2018\\\\u6b3e C 180 L \\\\u65f6\\\\u5c1a\\\\u578b\", \"guid_price\": \"32.38\\\\u4e07\", \"id\": 32647, \"img_url\": \"cxLogo\\\\\\\\588.jpg\", \"is_show\": true, \"location\": null, \"price\": \"0\", \"query\": null, \"query_class\": null, \"remark\": null, \"to_json\": null}, null, null, null, null]'}]},\n",
       "  {'title': '奥迪',\n",
       "   'list': [{'id': 3170,\n",
       "     'full_name': '奥迪A3',\n",
       "     'img_url': 'cxLogo\\\\3170.jpg',\n",
       "     'cars': '[{\"brand\": null, \"brand_id\": 33, \"cat\": null, \"cat_id\": 3170, \"deposit\": 10, \"full_name\": \"\\\\u5965\\\\u8feaA3 2018\\\\u6b3e 30\\\\u5468\\\\u5e74\\\\u5e74\\\\u578b Sportback 35 TFSI \\\\u8fdb\\\\u53d6\\\\u578b\", \"guid_price\": \"19.23\\\\u4e07\", \"id\": 32040, \"img_url\": \"cxLogo\\\\\\\\3170.jpg\", \"is_show\": true, \"location\": null, \"price\": \"10\\\\u4e07\", \"query\": null, \"query_class\": null, \"remark\": null, \"to_json\": null}, null, null, null, null]'}]},\n",
       "  {'title': 'ALPINA',\n",
       "   'list': [{'id': 4212,\n",
       "     'full_name': 'ALPINA B4',\n",
       "     'img_url': 'cxLogo\\\\4212.jpg',\n",
       "     'cars': '[{\"brand\": null, \"brand_id\": 276, \"cat\": null, \"cat_id\": 4212, \"deposit\": 0, \"full_name\": \"ALPINA B4 2016\\\\u6b3e B4 BITURBO Coupe\", \"guid_price\": \"109.80\\\\u4e07\", \"id\": 27911, \"img_url\": \"cxLogo\\\\\\\\4212.jpg\", \"is_show\": true, \"location\": null, \"price\": \"0\", \"query\": null, \"query_class\": null, \"remark\": null, \"to_json\": null}, null, null, null, null]'}]}]}"
      ]
     },
     "execution_count": 8,
     "metadata": {},
     "output_type": "execute_result"
    }
   ],
   "source": [
    "import json\n",
    "from webapp.utils import new_alchemy_encoder\n",
    "list = db.session.query(Car, Category, Brand).filter(\n",
    "    Brand.id == Car.brand_id, Category.id == Car.cat_id, Car.is_show == 1).all()\n",
    "\n",
    "brands = set()\n",
    "\n",
    "for (car, cat, brand) in list:\n",
    "    # 设置车辆列表\n",
    "    c = car\n",
    "    c.img_url = cat.img_url\n",
    "    \n",
    "\n",
    "    # 设置品牌列表\n",
    "    b = brand\n",
    "    for br in brands:\n",
    "        if b == br:\n",
    "            b = br\n",
    "            break\n",
    "    if not hasattr(b, 'cats'):\n",
    "        b.cats = set()\n",
    "    else:\n",
    "        for bc in b.cats:\n",
    "            if bc == cat:\n",
    "                cat = bc\n",
    "    if not hasattr(cat,'cars'):\n",
    "        cat.cars = []\n",
    "    cat.cars.append(c)            \n",
    "    b.cats.add(cat)\n",
    "    brands.add(b)\n",
    "\n",
    "result = []\n",
    "for it in brands:\n",
    "    l = []\n",
    "    for il in it.cats:\n",
    "        ob = il.to_json()\n",
    "        ob['cars'] = json.dumps(il.cars, cls=new_alchemy_encoder(), check_circular=False)\n",
    "        l.append(ob)\n",
    "    i = {'title': it.full_name, 'list': l}\n",
    "    result.append(i)\n",
    "{'status': 200, 'message': '', 'aside': result}"
   ]
  },
  {
   "cell_type": "code",
   "execution_count": null,
   "metadata": {},
   "outputs": [],
   "source": [
    "\n",
    "get_brands()"
   ]
  },
  {
   "cell_type": "code",
   "execution_count": null,
   "metadata": {},
   "outputs": [],
   "source": []
  }
 ],
 "metadata": {
  "kernelspec": {
   "display_name": "Python 3",
   "language": "python",
   "name": "python3"
  },
  "language_info": {
   "codemirror_mode": {
    "name": "ipython",
    "version": 3
   },
   "file_extension": ".py",
   "mimetype": "text/x-python",
   "name": "python",
   "nbconvert_exporter": "python",
   "pygments_lexer": "ipython3",
   "version": "3.6.5"
  }
 },
 "nbformat": 4,
 "nbformat_minor": 1
}
